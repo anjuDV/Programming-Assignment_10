{
 "cells": [
  {
   "cell_type": "markdown",
   "id": "3dcb940f",
   "metadata": {},
   "source": [
    "## Python Basic Programming Assignment 10"
   ]
  },
  {
   "cell_type": "markdown",
   "id": "6720790a",
   "metadata": {},
   "source": [
    "### 1. Write a Python program to find sum of elements in list?"
   ]
  },
  {
   "cell_type": "code",
   "execution_count": null,
   "id": "81a1ecb4",
   "metadata": {
    "vscode": {
     "languageId": "plaintext"
    }
   },
   "outputs": [],
   "source": [
    "list = [15, 7, 6, 9, 10]\n",
    "print(list)\n",
    "print(\"sum of list: \",sum(list))\n"
   ]
  },
  {
   "cell_type": "markdown",
   "id": "fe1137c3",
   "metadata": {},
   "source": [
    "### 2. Write a Python program to  Multiply all numbers in the list?"
   ]
  },
  {
   "cell_type": "code",
   "execution_count": null,
   "id": "d1969560",
   "metadata": {
    "vscode": {
     "languageId": "plaintext"
    }
   },
   "outputs": [],
   "source": [
    "import math\n",
    "def mul_list(list):\n",
    "     return math.prod(list)\n",
    "\n",
    "list = [4, 2, 5, 3, 8, 9, 10]\n",
    "print(list)\n",
    "print(\"product:\")\n",
    "print(mul_list(list))     "
   ]
  },
  {
   "cell_type": "markdown",
   "id": "078681db",
   "metadata": {},
   "source": [
    "### 3. Write a Python program to find smallest number in a list?"
   ]
  },
  {
   "cell_type": "code",
   "execution_count": null,
   "id": "105fdc31",
   "metadata": {
    "vscode": {
     "languageId": "plaintext"
    }
   },
   "outputs": [],
   "source": [
    "list = [15, 20, 6, 55, 95]\n",
    "list.sort()\n",
    "print(\"smallest number is:\", list[0])"
   ]
  },
  {
   "cell_type": "markdown",
   "id": "12b04397",
   "metadata": {},
   "source": [
    "### 4. Write a Python program to find largest number in a list?"
   ]
  },
  {
   "cell_type": "code",
   "execution_count": null,
   "id": "db2bc4d1",
   "metadata": {
    "vscode": {
     "languageId": "plaintext"
    }
   },
   "outputs": [],
   "source": [
    "list = [20, 27, 9, 45, 99]\n",
    "list.sort()\n",
    "print(\"largest number is:\", list[0])"
   ]
  },
  {
   "cell_type": "markdown",
   "id": "86442b51",
   "metadata": {},
   "source": [
    "### 5. Write a Python program to find second largest number in a list?"
   ]
  },
  {
   "cell_type": "code",
   "execution_count": null,
   "id": "455f32b7",
   "metadata": {
    "vscode": {
     "languageId": "plaintext"
    }
   },
   "outputs": [],
   "source": [
    "listA = [10, 25, 8, 47, 98]\n",
    "\n",
    "print(\"second largest element is:\", sorted(listA)[-2])"
   ]
  },
  {
   "cell_type": "markdown",
   "id": "10964d7d",
   "metadata": {},
   "source": [
    "### 6. Write a Python program to find N largest elements from a list?"
   ]
  },
  {
   "cell_type": "code",
   "execution_count": null,
   "id": "6b4efb9b",
   "metadata": {
    "vscode": {
     "languageId": "plaintext"
    }
   },
   "outputs": [],
   "source": [
    "A = [1100,300,4678,155,230,-55,978]\n",
    "n = 4\n",
    "A.sort()\n",
    "arr = []\n",
    "while n:\n",
    "    arr.append(A[-n])\n",
    "    n -= 1\n",
    "print(arr)    "
   ]
  },
  {
   "cell_type": "markdown",
   "id": "2f1a1e98",
   "metadata": {},
   "source": [
    "### 7. Write a Python program to print even numbers in a list?"
   ]
  },
  {
   "cell_type": "code",
   "execution_count": null,
   "id": "409b419f",
   "metadata": {
    "vscode": {
     "languageId": "plaintext"
    }
   },
   "outputs": [],
   "source": [
    "listA = [12,23,6,48,69,98]\n",
    "for num in listA:\n",
    "    if num % 2 == 0:\n",
    "      print(num, end=\" \")"
   ]
  },
  {
   "cell_type": "markdown",
   "id": "989bb324",
   "metadata": {},
   "source": [
    "### 8. Write a Python program to print odd numbers in a List?"
   ]
  },
  {
   "cell_type": "code",
   "execution_count": null,
   "id": "cc63421d",
   "metadata": {
    "vscode": {
     "languageId": "plaintext"
    }
   },
   "outputs": [],
   "source": [
    "listA = [12,23,6,48,69,98]\n",
    "for num in listA:\n",
    "    if num % 2 != 0:\n",
    "      print(num, end=\" \")"
   ]
  },
  {
   "cell_type": "markdown",
   "id": "185b7b13",
   "metadata": {},
   "source": [
    "### 9. Write a Python program to Remove empty List from List?"
   ]
  },
  {
   "cell_type": "code",
   "execution_count": null,
   "id": "c7b7e9f4",
   "metadata": {
    "vscode": {
     "languageId": "plaintext"
    }
   },
   "outputs": [],
   "source": [
    "listA = [3, 8, [], 6, [], [], 9]\n",
    "print(\"the original is:\" + str(listA))\n",
    "res = filter(none,listA)\n",
    "print(\"list after empty list removal :\", res)\n",
    "\n"
   ]
  },
  {
   "cell_type": "markdown",
   "id": "278cfacc",
   "metadata": {},
   "source": [
    "### 10. Write a Python program to Cloning or Copying a list?"
   ]
  },
  {
   "cell_type": "code",
   "execution_count": null,
   "id": "2c5ca030",
   "metadata": {
    "vscode": {
     "languageId": "plaintext"
    }
   },
   "outputs": [],
   "source": [
    "original_list = [65,44,78,10,37]\n",
    "new_list = list(original_list)\n",
    "print(\"original_list\")\n",
    "print(\"new_list\")"
   ]
  },
  {
   "cell_type": "markdown",
   "id": "b359bedf",
   "metadata": {},
   "source": [
    "### 11. Write a Python program to Count occurrences of an element in a list?"
   ]
  },
  {
   "cell_type": "code",
   "execution_count": null,
   "id": "42a0f459",
   "metadata": {
    "vscode": {
     "languageId": "plaintext"
    }
   },
   "outputs": [],
   "source": [
    "def count_occurrences(list, n):\n",
    "        count = 0 \n",
    "        for i in list\n",
    "            if(i==n):\n",
    "               count=count+1\n",
    "        return count \n",
    "li=[]\n",
    "n=int(input(\"enter the size of list\"))\n",
    "for i in range(0,n):\n",
    "     e=int(input(\"enter element of list\"))\n",
    "     li.append(e)\n",
    "print(\"original list: \",li)\n",
    "x=int(input(\"enter the element to checked list: \"))\n",
    "print(x,\"has occurrences\",count_occurrences(li, x),\"times\")                    \n",
    "               \n",
    "        \n"
   ]
  }
 ],
 "metadata": {
  "kernelspec": {
   "display_name": "Python 3 (ipykernel)",
   "language": "python",
   "name": "python3"
  },
  "language_info": {
   "codemirror_mode": {
    "name": "ipython",
    "version": 3
   },
   "file_extension": ".py",
   "mimetype": "text/x-python",
   "name": "python",
   "nbconvert_exporter": "python",
   "pygments_lexer": "ipython3",
   "version": "3.9.12"
  }
 },
 "nbformat": 4,
 "nbformat_minor": 5
}
